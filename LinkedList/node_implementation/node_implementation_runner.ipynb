{
 "cells": [
  {
   "cell_type": "markdown",
   "id": "a5573a6f",
   "metadata": {},
   "source": [
    "# 진정한 의미의 Node를 만들자\n",
    "Constructor 생성자  \n",
    "Property 정보은닉  \n",
    "Print 문 처리  \n",
    "Python class 문서 처리\n",
    "\n",
    "### PEP 257 : python Docstring 정의 proposer\n",
    "클래스, 함수, 변수 등에 대한 정보를 서술함  \n",
    "__doc__ 또는 docstring 바로 보기 기능등을 통해 확인  \n",
    "내가 만든 코드를 남이 잘 이헤하도록 정의"
   ]
  },
  {
   "cell_type": "markdown",
   "id": "3910e883",
   "metadata": {},
   "source": [
    "Attributes parameters에 대한 정보\n",
    "\n",
    "## Type hint\n",
    "### PEP 484: python의 Type 사전 정의 prposer\n"
   ]
  },
  {
   "cell_type": "code",
   "execution_count": 118,
   "id": "523783d0",
   "metadata": {
    "scrolled": true
   },
   "outputs": [
    {
     "data": {
      "text/plain": [
       "<module 'teamlab_ds' from 'C:\\\\Users\\\\Ahn Yehyeon\\\\workspace\\\\LinkedList\\\\node_implementation\\\\teamlab_ds.py'>"
      ]
     },
     "execution_count": 118,
     "metadata": {},
     "output_type": "execute_result"
    }
   ],
   "source": [
    "import teamlab_ds as ds\n",
    "import importlib\n",
    "importlib.reload(ds) # 다시 파일 리로딩"
   ]
  },
  {
   "cell_type": "code",
   "execution_count": 119,
   "id": "800b676c",
   "metadata": {},
   "outputs": [
    {
     "data": {
      "text/plain": [
       "2503"
      ]
     },
     "execution_count": 119,
     "metadata": {},
     "output_type": "execute_result"
    }
   ],
   "source": [
    "import random\n",
    "random.randint(1, 10000)"
   ]
  },
  {
   "cell_type": "code",
   "execution_count": 129,
   "id": "a8dc9b2d",
   "metadata": {},
   "outputs": [],
   "source": [
    "node_list_b = []\n",
    "for _ in range(1000):\n",
    "    node_list.append(ds.Node(random.randint(1, 10000)))"
   ]
  },
  {
   "cell_type": "code",
   "execution_count": 133,
   "id": "df65ca87",
   "metadata": {},
   "outputs": [],
   "source": [
    "for idx in range(1, len(node_list)):\n",
    "    node_list[idx-1] + node_list[idx]"
   ]
  },
  {
   "cell_type": "code",
   "execution_count": 136,
   "id": "cc4ae9dd",
   "metadata": {},
   "outputs": [
    {
     "data": {
      "text/plain": [
       "[Node(8367), Node(6347), Node(8280), Node(3690), Node(152)]"
      ]
     },
     "execution_count": 136,
     "metadata": {},
     "output_type": "execute_result"
    }
   ],
   "source": [
    "node_list[:5]"
   ]
  },
  {
   "cell_type": "code",
   "execution_count": 137,
   "id": "e8e98069",
   "metadata": {},
   "outputs": [
    {
     "data": {
      "text/plain": [
       "6347"
      ]
     },
     "execution_count": 137,
     "metadata": {},
     "output_type": "execute_result"
    }
   ],
   "source": [
    "node_list[0].next.data"
   ]
  },
  {
   "cell_type": "code",
   "execution_count": 90,
   "id": "050cd3ce",
   "metadata": {},
   "outputs": [],
   "source": [
    "a = ds.Node(2)\n",
    "b = ds.Node(52)\n",
    "c = ds.Node(18)"
   ]
  },
  {
   "cell_type": "code",
   "execution_count": 138,
   "id": "34009184",
   "metadata": {},
   "outputs": [
    {
     "ename": "AttributeError",
     "evalue": "'int' object has no attribute 'next'",
     "output_type": "error",
     "traceback": [
      "\u001b[1;31m---------------------------------------------------------------------------\u001b[0m",
      "\u001b[1;31mAttributeError\u001b[0m                            Traceback (most recent call last)",
      "\u001b[1;32mC:\\Users\\AHNYEH~1\\AppData\\Local\\Temp/ipykernel_812/1714547165.py\u001b[0m in \u001b[0;36m<module>\u001b[1;34m\u001b[0m\n\u001b[1;32m----> 1\u001b[1;33m \u001b[0mprint\u001b[0m\u001b[1;33m(\u001b[0m\u001b[0mnode_list\u001b[0m\u001b[1;33m[\u001b[0m\u001b[1;36m5\u001b[0m\u001b[1;33m]\u001b[0m\u001b[1;33m.\u001b[0m\u001b[0mdata\u001b[0m\u001b[1;33m.\u001b[0m\u001b[0mnext\u001b[0m\u001b[1;33m)\u001b[0m\u001b[1;33m\u001b[0m\u001b[1;33m\u001b[0m\u001b[0m\n\u001b[0m",
      "\u001b[1;31mAttributeError\u001b[0m: 'int' object has no attribute 'next'"
     ]
    }
   ],
   "source": [
    "print(node_list[5].data.next) #errer data don't have link"
   ]
  },
  {
   "cell_type": "code",
   "execution_count": 91,
   "id": "88ec6b16",
   "metadata": {},
   "outputs": [],
   "source": [
    "a + b"
   ]
  },
  {
   "cell_type": "code",
   "execution_count": 92,
   "id": "6a6ed3f0",
   "metadata": {},
   "outputs": [
    {
     "data": {
      "text/plain": [
       "I have a data : 52\n",
       "I have next node : 140723298835672"
      ]
     },
     "execution_count": 92,
     "metadata": {},
     "output_type": "execute_result"
    }
   ],
   "source": [
    "a.next # b와 노드를 이어줌"
   ]
  },
  {
   "cell_type": "code",
   "execution_count": 93,
   "id": "578c4774",
   "metadata": {},
   "outputs": [
    {
     "data": {
      "text/plain": [
       "I have a data : 2\n",
       "I have next node : 2100988565536"
      ]
     },
     "execution_count": 93,
     "metadata": {},
     "output_type": "execute_result"
    }
   ],
   "source": [
    "a"
   ]
  },
  {
   "cell_type": "code",
   "execution_count": 94,
   "id": "e2e69e7a",
   "metadata": {},
   "outputs": [
    {
     "data": {
      "text/plain": [
       "I have a data : 52\n",
       "I have next node : 140723298835672"
      ]
     },
     "execution_count": 94,
     "metadata": {},
     "output_type": "execute_result"
    }
   ],
   "source": [
    "b"
   ]
  },
  {
   "cell_type": "code",
   "execution_count": 96,
   "id": "86fa72f6",
   "metadata": {},
   "outputs": [],
   "source": [
    "b + c"
   ]
  },
  {
   "cell_type": "code",
   "execution_count": 97,
   "id": "cc265cbd",
   "metadata": {},
   "outputs": [],
   "source": [
    "b.next = c"
   ]
  },
  {
   "cell_type": "code",
   "execution_count": 99,
   "id": "d0a9e830",
   "metadata": {},
   "outputs": [
    {
     "data": {
      "text/plain": [
       "I have a data : 18\n",
       "I have next node : 140723298835672"
      ]
     },
     "execution_count": 99,
     "metadata": {},
     "output_type": "execute_result"
    }
   ],
   "source": [
    "c"
   ]
  },
  {
   "cell_type": "code",
   "execution_count": null,
   "id": "bc7b407c",
   "metadata": {},
   "outputs": [],
   "source": []
  },
  {
   "cell_type": "code",
   "execution_count": 79,
   "id": "f127f0d6",
   "metadata": {},
   "outputs": [],
   "source": [
    "a.next = b\n",
    "b.next = c"
   ]
  },
  {
   "cell_type": "code",
   "execution_count": 81,
   "id": "0df8c5c1",
   "metadata": {},
   "outputs": [
    {
     "data": {
      "text/plain": [
       "I have a data : 2\n",
       "I have next node : I have a data : 52\n",
       "I have next node : I have a data : 18\n",
       "I have next node : None"
      ]
     },
     "execution_count": 81,
     "metadata": {},
     "output_type": "execute_result"
    }
   ],
   "source": [
    "a # a node에 저장된 data와 next노드에 대한 정보도 출력됨."
   ]
  },
  {
   "cell_type": "code",
   "execution_count": 71,
   "id": "9ef61c0a",
   "metadata": {},
   "outputs": [
    {
     "data": {
      "text/plain": [
       "I have a data : 52\n",
       "I have next node : 2100989343200"
      ]
     },
     "execution_count": 71,
     "metadata": {},
     "output_type": "execute_result"
    }
   ],
   "source": [
    "b"
   ]
  },
  {
   "cell_type": "code",
   "execution_count": 72,
   "id": "43a12c2d",
   "metadata": {},
   "outputs": [
    {
     "data": {
      "text/plain": [
       "I have a data : 18\n",
       "I have next node : 140723298835672"
      ]
     },
     "execution_count": 72,
     "metadata": {},
     "output_type": "execute_result"
    }
   ],
   "source": [
    "c"
   ]
  },
  {
   "cell_type": "code",
   "execution_count": 63,
   "id": "c1c71276",
   "metadata": {},
   "outputs": [
    {
     "name": "stdout",
     "output_type": "stream",
     "text": [
      "I have a data : 2\n",
      "I have next node : 140723298835672\n"
     ]
    }
   ],
   "source": [
    "print(a)"
   ]
  },
  {
   "cell_type": "code",
   "execution_count": 43,
   "id": "f11f65a8",
   "metadata": {},
   "outputs": [
    {
     "name": "stdout",
     "output_type": "stream",
     "text": [
      "\n",
      "    A class to represent a Node for an explanation of data structure.\n",
      "    '''\n",
      "\n",
      "    Attributes\n",
      "    ----------\n",
      "    data : Any (어떤 용도로도 상관없음)\n",
      "        data that user store on Node instance\n",
      "    next : Node\n",
      "        object connected to the next node in a linked list.\n",
      "    \n",
      "    \n"
     ]
    }
   ],
   "source": [
    "print(a.__doc__)"
   ]
  },
  {
   "cell_type": "code",
   "execution_count": 38,
   "id": "d2d4df94",
   "metadata": {},
   "outputs": [
    {
     "name": "stdout",
     "output_type": "stream",
     "text": [
      "Built-in mutable sequence.\n",
      "\n",
      "If no argument is given, the constructor creates a new empty list.\n",
      "The argument must be an iterable if specified.\n"
     ]
    }
   ],
   "source": [
    "test = [1,2,3,4,5]\n",
    "print(test.__doc__)"
   ]
  },
  {
   "cell_type": "code",
   "execution_count": null,
   "id": "0e5d520f",
   "metadata": {},
   "outputs": [],
   "source": []
  }
 ],
 "metadata": {
  "kernelspec": {
   "display_name": "Python 3 (ipykernel)",
   "language": "python",
   "name": "python3"
  },
  "language_info": {
   "codemirror_mode": {
    "name": "ipython",
    "version": 3
   },
   "file_extension": ".py",
   "mimetype": "text/x-python",
   "name": "python",
   "nbconvert_exporter": "python",
   "pygments_lexer": "ipython3",
   "version": "3.9.7"
  },
  "vscode": {
   "interpreter": {
    "hash": "369f2c481f4da34e4445cda3fffd2e751bd1c4d706f27375911949ba6bb62e1c"
   }
  }
 },
 "nbformat": 4,
 "nbformat_minor": 5
}
