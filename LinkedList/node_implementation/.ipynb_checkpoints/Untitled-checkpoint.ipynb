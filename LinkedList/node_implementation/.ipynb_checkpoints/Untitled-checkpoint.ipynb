{
 "cells": [
  {
   "cell_type": "code",
   "execution_count": 18,
   "id": "b56ae196",
   "metadata": {},
   "outputs": [],
   "source": [
    "import teamlab_ds as ds\n",
    "import random"
   ]
  },
  {
   "cell_type": "code",
   "execution_count": 19,
   "id": "21c76f95",
   "metadata": {},
   "outputs": [],
   "source": [
    "node_list = []\n",
    "for _ in range(5):\n",
    "    node_list.append(ds.Node(random.randint(1, 10000)))"
   ]
  },
  {
   "cell_type": "code",
   "execution_count": 20,
   "id": "b9574f68",
   "metadata": {},
   "outputs": [
    {
     "data": {
      "text/plain": [
       "[Node(3329), Node(1567), Node(8426), Node(5488), Node(5743)]"
      ]
     },
     "execution_count": 20,
     "metadata": {},
     "output_type": "execute_result"
    }
   ],
   "source": [
    "node_list"
   ]
  },
  {
   "cell_type": "code",
   "execution_count": 21,
   "id": "ec8cac76",
   "metadata": {},
   "outputs": [],
   "source": [
    "for idx in range(1, len(node_list)):\n",
    "    node_list[idx-1] + node_list[idx]"
   ]
  },
  {
   "cell_type": "code",
   "execution_count": 22,
   "id": "438d0564",
   "metadata": {},
   "outputs": [
    {
     "data": {
      "text/plain": [
       "[Node(3329), Node(1567), Node(8426), Node(5488), Node(5743)]"
      ]
     },
     "execution_count": 22,
     "metadata": {},
     "output_type": "execute_result"
    }
   ],
   "source": [
    "node_list"
   ]
  },
  {
   "cell_type": "code",
   "execution_count": 23,
   "id": "0982fabc",
   "metadata": {},
   "outputs": [
    {
     "data": {
      "text/plain": [
       "Node(1567)"
      ]
     },
     "execution_count": 23,
     "metadata": {},
     "output_type": "execute_result"
    }
   ],
   "source": [
    "node_list[0].next"
   ]
  },
  {
   "cell_type": "code",
   "execution_count": 24,
   "id": "8d79a10c",
   "metadata": {},
   "outputs": [],
   "source": [
    "a = node_list[0]"
   ]
  },
  {
   "cell_type": "code",
   "execution_count": 25,
   "id": "52f735b2",
   "metadata": {},
   "outputs": [
    {
     "data": {
      "text/plain": [
       "Node(1567)"
      ]
     },
     "execution_count": 25,
     "metadata": {},
     "output_type": "execute_result"
    }
   ],
   "source": [
    "a.next"
   ]
  },
  {
   "cell_type": "code",
   "execution_count": 26,
   "id": "392ffd3f",
   "metadata": {},
   "outputs": [
    {
     "name": "stdout",
     "output_type": "stream",
     "text": [
      "3329\n",
      "1567\n",
      "8426\n",
      "5488\n",
      "5743\n",
      "End of List\n"
     ]
    }
   ],
   "source": [
    "cur_node = a\n",
    "while cur_node is not None:\n",
    "    print(cur_node.data)\n",
    "    cur_node = cur_node.next\n",
    "else:\n",
    "    print(\"End of List\")"
   ]
  },
  {
   "cell_type": "code",
   "execution_count": 41,
   "id": "2e21a543",
   "metadata": {},
   "outputs": [
    {
     "ename": "AttributeError",
     "evalue": "'NoneType' object has no attribute 'next'",
     "output_type": "error",
     "traceback": [
      "\u001b[1;31m---------------------------------------------------------------------------\u001b[0m",
      "\u001b[1;31mAttributeError\u001b[0m                            Traceback (most recent call last)",
      "\u001b[1;32mC:\\Users\\AHNYEH~1\\AppData\\Local\\Temp/ipykernel_3396/4118671995.py\u001b[0m in \u001b[0;36m<module>\u001b[1;34m\u001b[0m\n\u001b[1;32m----> 1\u001b[1;33m \u001b[0mcur_node\u001b[0m\u001b[1;33m.\u001b[0m\u001b[0mnext\u001b[0m \u001b[1;31m#Null None\u001b[0m\u001b[1;33m\u001b[0m\u001b[1;33m\u001b[0m\u001b[0m\n\u001b[0m",
      "\u001b[1;31mAttributeError\u001b[0m: 'NoneType' object has no attribute 'next'"
     ]
    }
   ],
   "source": [
    "cur_node.next #Null None"
   ]
  },
  {
   "cell_type": "code",
   "execution_count": 1,
   "id": "f71dca5b",
   "metadata": {},
   "outputs": [
    {
     "data": {
      "text/plain": [
       "<module 'teamlab_ds' from 'C:\\\\Users\\\\Ahn Yehyeon\\\\workspace\\\\LinkedList\\\\node_implementation\\\\teamlab_ds.py'>"
      ]
     },
     "execution_count": 1,
     "metadata": {},
     "output_type": "execute_result"
    }
   ],
   "source": [
    "import teamlab_ds as ds\n",
    "from importlib import reload\n",
    "import random\n",
    "\n",
    "reload(ds)"
   ]
  },
  {
   "cell_type": "code",
   "execution_count": 2,
   "id": "4038f264",
   "metadata": {},
   "outputs": [],
   "source": [
    "a = ds.Node(10010)"
   ]
  },
  {
   "cell_type": "code",
   "execution_count": 3,
   "id": "7d01e078",
   "metadata": {},
   "outputs": [],
   "source": [
    "my_bag = ds.LinkedListBag(a)"
   ]
  },
  {
   "cell_type": "code",
   "execution_count": 4,
   "id": "de66793c",
   "metadata": {},
   "outputs": [
    {
     "data": {
      "text/plain": [
       "Node(10010)"
      ]
     },
     "execution_count": 4,
     "metadata": {},
     "output_type": "execute_result"
    }
   ],
   "source": [
    "my_bag.head"
   ]
  },
  {
   "cell_type": "code",
   "execution_count": 5,
   "id": "b9e10805",
   "metadata": {},
   "outputs": [],
   "source": [
    "node_list = []\n",
    "for _ in range(5):\n",
    "    node_list.append(ds.Node(random.randint(1, 10000)))\n",
    "    \n",
    "for idx in range(1, len(node_list)):\n",
    "    node_list[idx-1] + node_list[idx]    "
   ]
  },
  {
   "cell_type": "code",
   "execution_count": 6,
   "id": "4e33cce7",
   "metadata": {},
   "outputs": [],
   "source": [
    "my_bag = ds.LinkedListBag(node_list[0])"
   ]
  },
  {
   "cell_type": "code",
   "execution_count": 7,
   "id": "61faf5c4",
   "metadata": {},
   "outputs": [
    {
     "data": {
      "text/plain": [
       "2242 -> 6355 -> 8741 -> 6484 -> 6398 -> End of Linked List"
      ]
     },
     "execution_count": 7,
     "metadata": {},
     "output_type": "execute_result"
    }
   ],
   "source": [
    "my_bag"
   ]
  },
  {
   "cell_type": "code",
   "execution_count": 8,
   "id": "e291a799",
   "metadata": {},
   "outputs": [
    {
     "data": {
      "text/plain": [
       "5"
      ]
     },
     "execution_count": 8,
     "metadata": {},
     "output_type": "execute_result"
    }
   ],
   "source": [
    "len(my_bag)"
   ]
  },
  {
   "cell_type": "code",
   "execution_count": 9,
   "id": "698768d0",
   "metadata": {},
   "outputs": [
    {
     "data": {
      "text/plain": [
       "[Node(2242), Node(6355), Node(8741), Node(6484), Node(6398)]"
      ]
     },
     "execution_count": 9,
     "metadata": {},
     "output_type": "execute_result"
    }
   ],
   "source": [
    "node_list"
   ]
  },
  {
   "cell_type": "code",
   "execution_count": 10,
   "id": "bcc6e172",
   "metadata": {},
   "outputs": [
    {
     "data": {
      "text/plain": [
       "False"
      ]
     },
     "execution_count": 10,
     "metadata": {},
     "output_type": "execute_result"
    }
   ],
   "source": [
    "4295 in my_bag"
   ]
  },
  {
   "cell_type": "code",
   "execution_count": 11,
   "id": "ba3ff699",
   "metadata": {},
   "outputs": [
    {
     "data": {
      "text/plain": [
       "Node(2242)"
      ]
     },
     "execution_count": 11,
     "metadata": {},
     "output_type": "execute_result"
    }
   ],
   "source": [
    "my_bag.head"
   ]
  },
  {
   "cell_type": "code",
   "execution_count": 12,
   "id": "4326c9a5",
   "metadata": {},
   "outputs": [
    {
     "name": "stdout",
     "output_type": "stream",
     "text": [
      "2242\n",
      "6355\n",
      "8741\n",
      "6484\n",
      "6398\n"
     ]
    }
   ],
   "source": [
    "cur_node = my_bag.head\n",
    "while cur_node is not None:\n",
    "    print(cur_node.data)\n",
    "    cur_node = cur_node.next"
   ]
  },
  {
   "cell_type": "code",
   "execution_count": 40,
   "id": "3321bb32",
   "metadata": {},
   "outputs": [
    {
     "data": {
      "text/plain": [
       "True"
      ]
     },
     "execution_count": 40,
     "metadata": {},
     "output_type": "execute_result"
    }
   ],
   "source": [
    "test = [1, 2, 3, 4, 5, 6]\n",
    "1 in test"
   ]
  },
  {
   "cell_type": "code",
   "execution_count": 29,
   "id": "80145dfb",
   "metadata": {},
   "outputs": [
    {
     "data": {
      "text/plain": [
       "<module 'teamlab_ds' from 'C:\\\\Users\\\\Ahn Yehyeon\\\\workspace\\\\LinkedList\\\\node_implementation\\\\teamlab_ds.py'>"
      ]
     },
     "execution_count": 29,
     "metadata": {},
     "output_type": "execute_result"
    }
   ],
   "source": [
    "import teamlab_ds as ds\n",
    "from importlib import reload\n",
    "import random\n",
    "\n",
    "reload(ds)"
   ]
  },
  {
   "cell_type": "code",
   "execution_count": 30,
   "id": "84949d40",
   "metadata": {},
   "outputs": [],
   "source": [
    "my_bag = ds.LinkedListBag()"
   ]
  },
  {
   "cell_type": "code",
   "execution_count": 31,
   "id": "16b7e887",
   "metadata": {},
   "outputs": [],
   "source": [
    "for _ in range(5):\n",
    "    my_bag.append(ds.Node(random.randint(1, 10000)))"
   ]
  },
  {
   "cell_type": "code",
   "execution_count": 32,
   "id": "068da474",
   "metadata": {},
   "outputs": [
    {
     "data": {
      "text/plain": [
       "5"
      ]
     },
     "execution_count": 32,
     "metadata": {},
     "output_type": "execute_result"
    }
   ],
   "source": [
    "len(my_bag)"
   ]
  },
  {
   "cell_type": "code",
   "execution_count": 33,
   "id": "bb194279",
   "metadata": {},
   "outputs": [
    {
     "data": {
      "text/plain": [
       "True"
      ]
     },
     "execution_count": 33,
     "metadata": {},
     "output_type": "execute_result"
    }
   ],
   "source": [
    "new_node = ds.Node(random.randint(1, 10000))\n",
    "my_bag.insert(new_node, 3)"
   ]
  },
  {
   "cell_type": "code",
   "execution_count": 35,
   "id": "2e2b5cb2",
   "metadata": {},
   "outputs": [
    {
     "data": {
      "text/plain": [
       "Node(8601)"
      ]
     },
     "execution_count": 35,
     "metadata": {},
     "output_type": "execute_result"
    }
   ],
   "source": [
    "new_node = ds.Node(random.randint(1, 10000))\n",
    "new_node"
   ]
  },
  {
   "cell_type": "code",
   "execution_count": null,
   "id": "2b1468a1",
   "metadata": {},
   "outputs": [],
   "source": [
    "my_bag.insert(new_node, 3)\n",
    "my_bag"
   ]
  },
  {
   "cell_type": "markdown",
   "id": "6880d6be",
   "metadata": {},
   "source": []
  }
 ],
 "metadata": {
  "kernelspec": {
   "display_name": "Python 3 (ipykernel)",
   "language": "python",
   "name": "python3"
  },
  "language_info": {
   "codemirror_mode": {
    "name": "ipython",
    "version": 3
   },
   "file_extension": ".py",
   "mimetype": "text/x-python",
   "name": "python",
   "nbconvert_exporter": "python",
   "pygments_lexer": "ipython3",
   "version": "3.9.7"
  }
 },
 "nbformat": 4,
 "nbformat_minor": 5
}
