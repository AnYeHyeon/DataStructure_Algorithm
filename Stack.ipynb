{
 "cells": [
  {
   "cell_type": "code",
   "execution_count": 5,
   "id": "8b3a36b5",
   "metadata": {},
   "outputs": [],
   "source": [
    "class Node(object):\n",
    "    def __init__(self, data):\n",
    "        self.data = data\n",
    "        self.next = None\n",
    "        \n",
    "    def __repr__(self):\n",
    "        return str(self.data)"
   ]
  },
  {
   "cell_type": "code",
   "execution_count": 6,
   "id": "7f556b38",
   "metadata": {},
   "outputs": [],
   "source": [
    "    my_node = Node(10)"
   ]
  },
  {
   "cell_type": "code",
   "execution_count": 7,
   "id": "5443bf52",
   "metadata": {
    "scrolled": true
   },
   "outputs": [
    {
     "data": {
      "text/plain": [
       "10"
      ]
     },
     "execution_count": 7,
     "metadata": {},
     "output_type": "execute_result"
    }
   ],
   "source": [
    "my_node"
   ]
  },
  {
   "cell_type": "code",
   "execution_count": 18,
   "id": "40bba1ab",
   "metadata": {},
   "outputs": [],
   "source": [
    "class Stack():\n",
    "    \n",
    "    def __init__(self, first_node : Node = None):\n",
    "        self.size = 0 \n",
    "        self.top = None\n",
    "        if first_node is not None:\n",
    "            self.top = iirst_node\n",
    "            self.size += 1\n",
    "        else:\n",
    "            self.top = None\n",
    "            self.size = 0\n",
    "    def push(self, new_node : Node):\n",
    "        new_node.next = self.top\n",
    "        self.top = new_node\n",
    "        self.size =+ 1\n",
    "        \n",
    "        \n",
    "        \n",
    "    def __repr__(self):\n",
    "        cur_node = self.top\n",
    "        out_list = []\n",
    "        \n",
    "        while cur_node is not None:\n",
    "            out_list.append(str(cur_node.data))\n",
    "            cur_node = cur_node.next\n",
    "        out_list = reversed(out_list)\n",
    "        return \"-->\".join(out_list)\n",
    "\n",
    "    def peek(self):        # 최상단 데이터 확인\n",
    "        return self.top"
   ]
  },
  {
   "cell_type": "code",
   "execution_count": 19,
   "id": "d3b572f9",
   "metadata": {},
   "outputs": [],
   "source": [
    "my_stack = Stack()"
   ]
  },
  {
   "cell_type": "code",
   "execution_count": 20,
   "id": "2c552120",
   "metadata": {},
   "outputs": [],
   "source": [
    "my_node = Node(10)\n",
    "my_stack.push(my_node)\n",
    "my_node = Node(20)\n",
    "my_stack.push(my_node)\n",
    "my_node = Node(30)\n",
    "my_stack.push(my_node)\n",
    "my_node = Node(40)\n",
    "my_stack.push(my_node)\n",
    "my_node = Node(50)\n",
    "my_stack.push(my_node)"
   ]
  },
  {
   "cell_type": "code",
   "execution_count": 21,
   "id": "f83ac7a1",
   "metadata": {},
   "outputs": [
    {
     "data": {
      "text/plain": [
       "10-->20-->30-->40-->50"
      ]
     },
     "execution_count": 21,
     "metadata": {},
     "output_type": "execute_result"
    }
   ],
   "source": [
    "my_stack"
   ]
  },
  {
   "cell_type": "code",
   "execution_count": 22,
   "id": "e7259604",
   "metadata": {},
   "outputs": [
    {
     "data": {
      "text/plain": [
       "50"
      ]
     },
     "execution_count": 22,
     "metadata": {},
     "output_type": "execute_result"
    }
   ],
   "source": [
    "my_stack.peek()"
   ]
  },
  {
   "cell_type": "code",
   "execution_count": 23,
   "id": "e0aa55cc",
   "metadata": {},
   "outputs": [
    {
     "data": {
      "text/plain": [
       "__main__.Node"
      ]
     },
     "execution_count": 23,
     "metadata": {},
     "output_type": "execute_result"
    }
   ],
   "source": [
    "type(my_stack.peek())"
   ]
  },
  {
   "cell_type": "code",
   "execution_count": null,
   "id": "8d2909b7",
   "metadata": {},
   "outputs": [],
   "source": []
  }
 ],
 "metadata": {
  "kernelspec": {
   "display_name": "Python 3 (ipykernel)",
   "language": "python",
   "name": "python3"
  },
  "language_info": {
   "codemirror_mode": {
    "name": "ipython",
    "version": 3
   },
   "file_extension": ".py",
   "mimetype": "text/x-python",
   "name": "python",
   "nbconvert_exporter": "python",
   "pygments_lexer": "ipython3",
   "version": "3.9.7"
  }
 },
 "nbformat": 4,
 "nbformat_minor": 5
}
