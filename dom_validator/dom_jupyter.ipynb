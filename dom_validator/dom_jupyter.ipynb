{
 "cells": [
  {
   "cell_type": "code",
   "execution_count": 1,
   "id": "6608d0bb",
   "metadata": {},
   "outputs": [],
   "source": [
    "def is_validate_dom(dom_text : str) -> bool:\n",
    "    \"\"\" dom 문서인 str 타입의 데이터를 받은 후 해당 데이터가 올바른 dom 문서인지 아닌지 확인 하는 코드 \n",
    "        반드시 stack 또는 queue 를 사용하여 구현할 것\n",
    "    Args:\n",
    "        dom_text (str) : dom 문서\n",
    "\n",
    "    Returns:\n",
    "        is_valudate_dom (bool) : 해당 문서가 올바른 dom인지 확인하는 코드\n",
    "    \n",
    "    \"\"\"\n",
    "    dom_string = ' '.join(s for s in dom_text.split())\n",
    "    element_node = dom_string.split(\"<\")\n",
    "    element_stack = []\n",
    "    \n",
    "    for node in element_node:\n",
    "        element_stack.append(node)\n",
    "        print(element_stack)\n",
    "\n",
    "        if '/' in node and '>' in node:  # 또 다른 방법으로는 정규표현식을 통해 </> 자체를 찾는 방법도 있음.\n",
    "            to_index = node.find('>')  # 문자열의 index를 리턴\n",
    "            tail_tag = node[1:to_index]  # '/' 빼고 tag명만 저장\n",
    "\n",
    "            try:\n",
    "                head_tag = (element_stack[-2].split())[0]\n",
    "                \n",
    "                if '>' in head_tag:\n",
    "                    to_index = head_tag.find('>')  # 문자열의 index를 리턴\n",
    "                    head_tag = head_tag[:to_index]\n",
    "                else:\n",
    "                    head_tag = head_tag\n",
    "                    \n",
    "            except:  # element_stack list의 길이가 2가 안되는 예외 처리\n",
    "                pass\n",
    "            \n",
    "            print(head_tag)\n",
    "            \n",
    "            if tail_tag == head_tag:  # 앞에 같은거 pop되고 자기꺼 남아있음.\n",
    "                element_stack.pop()\n",
    "                element_stack.pop()\n",
    "                print(element_stack)\n",
    "                \n",
    "    if element_stack == ['']:\n",
    "        return True\n",
    "    else:\n",
    "        return False"
   ]
  },
  {
   "cell_type": "code",
   "execution_count": 5,
   "id": "d84ee0a3",
   "metadata": {},
   "outputs": [
    {
     "name": "stdout",
     "output_type": "stream",
     "text": [
      "['']\n",
      "['', 'a>ddd']\n",
      "['', 'a>ddd', '/a>']\n",
      "a\n",
      "['']\n",
      "True\n"
     ]
    }
   ],
   "source": [
    "dom_text1 = \"\"\"<data>\n",
    "        <items>\n",
    "            <item name=\"ite11\">ite11abc</item>\n",
    "            <item name=\"item2\">item2abc</item>\n",
    "        </items>\n",
    "    </data>\n",
    "    \"\"\".strip()\n",
    "\n",
    "dom_text2 = \"\"\"<items>\n",
    "         <data>\n",
    "             <items name=\"item1\">item1abc</items>\n",
    "             <item name=\"item2\">item2abc</item>\n",
    "         </items>\n",
    "     </data>\n",
    "     \"\"\".strip()\n",
    "\n",
    "example = \"<a>ddd</a>\"\n",
    "\n",
    "result = is_validate_dom(example)\n",
    "print(result)"
   ]
  },
  {
   "cell_type": "code",
   "execution_count": null,
   "id": "1d2956fc",
   "metadata": {},
   "outputs": [],
   "source": []
  },
  {
   "cell_type": "code",
   "execution_count": null,
   "id": "f7feb26f",
   "metadata": {},
   "outputs": [],
   "source": []
  }
 ],
 "metadata": {
  "kernelspec": {
   "display_name": "Python 3 (ipykernel)",
   "language": "python",
   "name": "python3"
  },
  "language_info": {
   "codemirror_mode": {
    "name": "ipython",
    "version": 3
   },
   "file_extension": ".py",
   "mimetype": "text/x-python",
   "name": "python",
   "nbconvert_exporter": "python",
   "pygments_lexer": "ipython3",
   "version": "3.9.7"
  }
 },
 "nbformat": 4,
 "nbformat_minor": 5
}
